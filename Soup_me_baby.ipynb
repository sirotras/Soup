{
 "cells": [
  {
   "cell_type": "code",
   "execution_count": 1,
   "metadata": {},
   "outputs": [],
   "source": [
    "from bs4 import BeautifulSoup\n",
    "import requests\n",
    "update_url = 'https://ccsportscarclub.org/autocross/schedule/'\n",
    "page = requests.get(update_url)\n",
    "\n",
    "soup = BeautifulSoup(page.text, 'html.parser')\n",
    "\n",
    "#print(soup.prettify())\n",
    "\n",
    "#print(soup.find_all('table'))\n",
    "table_list = soup.find_all('table')\n",
    "#print(table_list)\n",
    "\n",
    "url_list = soup.find_all('a')\n",
    "#for urls in url_list:\n",
    "#    print (urls['href'])\n",
    "\n",
    "url_notag_list = []\n",
    "for urls in url_list:\n",
    "    if urls['href'].find('files') or urls['href'].find('msreg'):\n",
    "        url_notag_list.append(urls['href'])\n",
    "\n",
    "type(url_notag_list[1])\n",
    "links_list = []\n",
    "for string in url_notag_list:\n",
    "    if string.find('files') != -1 or string.find('msreg') != -1:\n",
    "        links_list.append(string)\n",
    "\n",
    "# for url in links_list:\n",
    "#     if url.find('msreg') != -1:\n",
    "#         new_page = requests.get(url)\n",
    "#         new_soup = BeautifulSoup(new_page.text, 'htlm.parser')\n"
   ]
  },
  {
   "cell_type": "code",
   "execution_count": 2,
   "metadata": {},
   "outputs": [
    {
     "name": "stdout",
     "output_type": "stream",
     "text": [
      "\n",
      "      Rantoul, IL\n",
      "    \n"
     ]
    }
   ],
   "source": [
    "\n",
    "\n",
    "page1 = requests.get('http://msreg.com/CCSCCMar')\n",
    "soupit = BeautifulSoup(page1.text,'html.parser')\n",
    "\n",
    "something =soupit.find('div',{'class':'section__description section__description_s'})\n",
    "print(something.text)\n"
   ]
  },
  {
   "cell_type": "code",
   "execution_count": 3,
   "metadata": {},
   "outputs": [
    {
     "name": "stdout",
     "output_type": "stream",
     "text": [
      "http://msreg.com/CCSCCMar\n",
      "http://ccsportscarclub.org/files/2022/03/lets-get-it-started-03_26_2022_fin.htm\n",
      "http://ccsportscarclub.org/files/2022/03/lets-get-it-started-03_26_2022_raw.htm\n",
      "http://ccsportscarclub.org/files/2022/03/lets-get-it-started-03_26_2022_pax.htm\n",
      "http://ccsportscarclub.org/files/2022/03/lets-get-it-started-03_26_2022-pro-class_fin-1.htm\n",
      "http://ccsportscarclub.org/files/2022/03/lets-get-it-started-03_27_2022_fin.htm\n",
      "http://ccsportscarclub.org/files/2022/03/lets-get-it-started-03_27_2022_raw.htm\n",
      "http://ccsportscarclub.org/files/2022/03/lets-get-it-started-03_27_2022_pax.htm\n",
      "http://ccsportscarclub.org/files/2022/03/Lets-Get-It-Started-03_27_2022-Pro-Class_fin.htm\n",
      "http://msreg.com/CCSCCApril\n",
      "http://ccsportscarclub.org/files/2022/04/cone-slayer-saturday-04-23-2022_fin.htm\n",
      "http://ccsportscarclub.org/files/2022/04/cone-slayer-saturday-04-23-2022_raw.htm\n",
      "http://ccsportscarclub.org/files/2022/04/cone-slayer-saturday-04-23-2022_pax.htm\n",
      "http://ccsportscarclub.org/files/2022/04/Cone-Slayer-Saturday-04-23-2022-Pro_fin.htm\n",
      "http://ccsportscarclub.org/files/2022/04/cone-slayer-sunday-4-24-2022_fin.htm\n",
      "http://ccsportscarclub.org/files/2022/04/cone-slayer-sunday-4-24-2022_raw.htm\n",
      "http://ccsportscarclub.org/files/2022/04/cone-slayer-sunday-4-24-2022_pax.htm\n",
      "http://ccsportscarclub.org/files/2022/04/Cone-slayer-Sunday-4-24-2022-pro_fin.htm\n",
      "http://msreg.com/CCSCCMay\n",
      "http://ccsportscarclub.org/files/2022/05/counterbalance-saturday-05-14-2022_fin.htm\n",
      "http://ccsportscarclub.org/files/2022/05/counterbalance-saturday-05-14-2022_raw.htm\n",
      "http://ccsportscarclub.org/files/2022/05/counterbalance-saturday-05-14-2022_pax.htm\n",
      "http://ccsportscarclub.org/files/2022/05/Counterbalance-Saturday-05-14-2022-Pro_fin.htm\n",
      "http://ccsportscarclub.org/files/2022/05/counterbalance-sunday-05-15-2022_fin.htm\n",
      "http://ccsportscarclub.org/files/2022/05/counterbalance-sunday-05-15-2022_raw.htm\n",
      "http://ccsportscarclub.org/files/2022/05/counterbalance-sunday-05-15-2022_pax.htm\n",
      "http://ccsportscarclub.org/files/2022/05/Counterbalance-Sunday-05-15-2022-Pro_fin.htm\n",
      "http://msreg.com/CCSCCSchool\n",
      "http://msreg.com/CCSCCJune\n",
      "http://msreg.com/CCSCCJuly\n",
      "http://ccsportscarclub.org/files/2022/07/summer-of-speed-ii-saturday-07-16-2022_fin-1.htm\n",
      "http://ccsportscarclub.org/files/2022/07/summer-of-speed-ii-saturday-07-16-2022_raw-1.htm\n",
      "http://ccsportscarclub.org/files/2022/07/summer-of-speed-ii-saturday-07-16-2022_pax-1.htm\n",
      "http://ccsportscarclub.org/files/2022/08/Summer-of-Speed-II-Saturday-07-16-2022-Pro_fin.htm\n",
      "http://ccsportscarclub.org/files/2022/07/summer-of-speed-ii-sunday-07-17-2022_fin.htm\n",
      "http://ccsportscarclub.org/files/2022/07/summer-of-speed-ii-sunday-07-17-2022_pax.htm\n",
      "http://ccsportscarclub.org/files/2022/07/summer-of-speed-ii-sunday-07-17-2022_raw.htm\n",
      "http://ccsportscarclub.org/files/2022/08/Summer-of-Speed-II-Sunday-07-17-2022-Pro_fin.htm\n",
      "http://msreg.com/CCSCCAug\n",
      "http://ccsportscarclub.org/files/2022/08/autox-in-august-saturday-8-13-2022_fin.htm\n",
      "http://ccsportscarclub.org/files/2022/08/autox-in-august-saturday-8-13-2022_raw.htm\n",
      "http://ccsportscarclub.org/files/2022/08/autox-in-august-saturday-8-13-2022_pax.htm\n",
      "http://ccsportscarclub.org/files/2022/08/Autox-in-August-Saturday-8-13-2022-Pro_fin.htm\n",
      "http://ccsportscarclub.org/files/2022/08/autox-in-august-sunday-8-14-2022_fin.htm\n",
      "http://ccsportscarclub.org/files/2022/08/autox-in-august-sunday-8-14-2022_raw.htm\n",
      "http://ccsportscarclub.org/files/2022/08/autox-in-august-sunday-8-14-2022_pax.htm\n",
      "http://ccsportscarclub.org/files/2022/08/Autox-in-August-Sunday-8-14-2022-Pro_fin.htm\n",
      "http://msreg.com/CCSCCSept\n",
      "http://ccsportscarclub.org/files/2022/09/You-shall-not-pass-09-03-2022_fin.htm\n",
      "http://ccsportscarclub.org/files/2022/09/You-shall-not-pass-09-03-2022_raw.htm\n",
      "http://ccsportscarclub.org/files/2022/09/you-shall-not-pass-09-03-2022_pax.htm\n",
      "http://ccsportscarclub.org/files/2022/09/You-shall-not-pass-09-03-2022-Pro_fin.htm\n",
      "http://msreg.com/CCSCCOct\n",
      "http://msreg.com/CCSCCNov\n"
     ]
    }
   ],
   "source": [
    "for link in links_list:\n",
    "    print(link)"
   ]
  },
  {
   "cell_type": "code",
   "execution_count": 11,
   "metadata": {},
   "outputs": [],
   "source": [
    "my_file = open('output.txt','w')\n",
    "for url in links_list:\n",
    "    if url.find('_raw') != -1:\n",
    "        new_page = requests.get(url)\n",
    "        new_soup = BeautifulSoup(new_page.text, 'html.parser')\n",
    "        table_lists = new_soup.find_all('table')\n",
    "        #print(table_lists)\n",
    "        td_find = new_soup.find_all('td')\n",
    "        td_list = []\n",
    "        count = 1\n",
    "        for td in td_find:\n",
    "            td_list.append(td.text)\n",
    "            if count % 9 == 0:\n",
    "                td_list.append('\\n')\n",
    "            count+=1\n",
    "            \n",
    "        my_file.write('|'.join(td_list))\n",
    "        my_file.write('\\n')\n",
    "\n",
    "    if url.find('msreg') != -1:\n",
    "        new_page = requests.get(url)\n",
    "        new_soup = BeautifulSoup(new_page.text, 'html.parser')\n",
    "        location = new_soup.find('div',{'class':'section__description section__description_s'}).text\n",
    "        #print(f\"URL:{url}\")\n",
    "        #print(location)\n",
    "        my_file.write(location)\n",
    "    \n",
    "    #print(\"-------------------------------------------------------------------------------------------\")\n",
    "    \n",
    "\n",
    "    \n"
   ]
  },
  {
   "cell_type": "code",
   "execution_count": null,
   "metadata": {},
   "outputs": [],
   "source": []
  }
 ],
 "metadata": {
  "kernelspec": {
   "display_name": "Python 3.10.7 64-bit",
   "language": "python",
   "name": "python3"
  },
  "language_info": {
   "codemirror_mode": {
    "name": "ipython",
    "version": 3
   },
   "file_extension": ".py",
   "mimetype": "text/x-python",
   "name": "python",
   "nbconvert_exporter": "python",
   "pygments_lexer": "ipython3",
   "version": "3.10.7"
  },
  "orig_nbformat": 4,
  "vscode": {
   "interpreter": {
    "hash": "a45b49fc1bc63df01454f3939ffeb3fd6b7054001db78d05ac4d776a0b77027d"
   }
  }
 },
 "nbformat": 4,
 "nbformat_minor": 2
}
