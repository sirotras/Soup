{
 "cells": [
  {
   "cell_type": "code",
   "execution_count": 1,
   "metadata": {},
   "outputs": [],
   "source": [
    "from bs4 import BeautifulSoup\n",
    "import requests\n",
    "import re\n",
    "import os\n",
    "update_url = 'https://ccsportscarclub.org/autocross/schedule/'\n",
    "page = requests.get(update_url)\n",
    "\n",
    "soup = BeautifulSoup(page.text, 'html.parser')\n",
    "\n",
    "#print(soup.prettify())\n",
    "\n",
    "#print(soup.find_all('table'))\n",
    "table_list = soup.find_all('table')\n",
    "#print(table_list)\n",
    "\n",
    "url_list = soup.find_all('a')\n",
    "#for urls in url_list:\n",
    "#    print (urls['href'])\n",
    "\n",
    "url_notag_list = []\n",
    "for urls in url_list:\n",
    "    if urls['href'].find('files') or urls['href'].find('msreg'):\n",
    "        url_notag_list.append(urls['href'])\n",
    "\n",
    "type(url_notag_list[1])\n",
    "links_list = []\n",
    "for string in url_notag_list:\n",
    "    if string.find('files') != -1 or string.find('msreg') != -1:\n",
    "        links_list.append(string)\n",
    "\n",
    "# for url in links_list:\n",
    "#     if url.find('msreg') != -1:\n",
    "#         new_page = requests.get(url)\n",
    "#         new_soup = BeautifulSoup(new_page.text, 'htlm.parser')\n"
   ]
  },
  {
   "cell_type": "code",
   "execution_count": 2,
   "metadata": {},
   "outputs": [
    {
     "name": "stdout",
     "output_type": "stream",
     "text": [
      "\n",
      "      Rantoul, IL\n",
      "    \n",
      "Rantoul, IL\n",
      "['Rantoul,', 'IL']\n"
     ]
    }
   ],
   "source": [
    "\n",
    "\n",
    "page1 = requests.get('http://msreg.com/CCSCCMar')\n",
    "soupit = BeautifulSoup(page1.text,'html.parser')\n",
    "\n",
    "something =soupit.find('div',{'class':'section__description section__description_s'})\n",
    "print(something.text)\n",
    "relocation = something.text.strip()\n",
    "print(relocation)\n",
    "ab = relocation.split(' ')\n",
    "print(ab)\n"
   ]
  },
  {
   "cell_type": "code",
   "execution_count": 3,
   "metadata": {},
   "outputs": [
    {
     "name": "stdout",
     "output_type": "stream",
     "text": [
      "http://msreg.com/CCSCCMar\n",
      "http://ccsportscarclub.org/files/2022/03/lets-get-it-started-03_26_2022_fin.htm\n",
      "http://ccsportscarclub.org/files/2022/03/lets-get-it-started-03_26_2022_raw.htm\n",
      "http://ccsportscarclub.org/files/2022/03/lets-get-it-started-03_26_2022_pax.htm\n",
      "http://ccsportscarclub.org/files/2022/03/lets-get-it-started-03_26_2022-pro-class_fin-1.htm\n",
      "http://ccsportscarclub.org/files/2022/03/lets-get-it-started-03_27_2022_fin.htm\n",
      "http://ccsportscarclub.org/files/2022/03/lets-get-it-started-03_27_2022_raw.htm\n",
      "http://ccsportscarclub.org/files/2022/03/lets-get-it-started-03_27_2022_pax.htm\n",
      "http://ccsportscarclub.org/files/2022/03/Lets-Get-It-Started-03_27_2022-Pro-Class_fin.htm\n",
      "http://msreg.com/CCSCCApril\n",
      "http://ccsportscarclub.org/files/2022/04/cone-slayer-saturday-04-23-2022_fin.htm\n",
      "http://ccsportscarclub.org/files/2022/04/cone-slayer-saturday-04-23-2022_raw.htm\n",
      "http://ccsportscarclub.org/files/2022/04/cone-slayer-saturday-04-23-2022_pax.htm\n",
      "http://ccsportscarclub.org/files/2022/04/Cone-Slayer-Saturday-04-23-2022-Pro_fin.htm\n",
      "http://ccsportscarclub.org/files/2022/04/cone-slayer-sunday-4-24-2022_fin.htm\n",
      "http://ccsportscarclub.org/files/2022/04/cone-slayer-sunday-4-24-2022_raw.htm\n",
      "http://ccsportscarclub.org/files/2022/04/cone-slayer-sunday-4-24-2022_pax.htm\n",
      "http://ccsportscarclub.org/files/2022/04/Cone-slayer-Sunday-4-24-2022-pro_fin.htm\n",
      "http://msreg.com/CCSCCMay\n",
      "http://ccsportscarclub.org/files/2022/05/counterbalance-saturday-05-14-2022_fin.htm\n",
      "http://ccsportscarclub.org/files/2022/05/counterbalance-saturday-05-14-2022_raw.htm\n",
      "http://ccsportscarclub.org/files/2022/05/counterbalance-saturday-05-14-2022_pax.htm\n",
      "http://ccsportscarclub.org/files/2022/05/Counterbalance-Saturday-05-14-2022-Pro_fin.htm\n",
      "http://ccsportscarclub.org/files/2022/05/counterbalance-sunday-05-15-2022_fin.htm\n",
      "http://ccsportscarclub.org/files/2022/05/counterbalance-sunday-05-15-2022_raw.htm\n",
      "http://ccsportscarclub.org/files/2022/05/counterbalance-sunday-05-15-2022_pax.htm\n",
      "http://ccsportscarclub.org/files/2022/05/Counterbalance-Sunday-05-15-2022-Pro_fin.htm\n",
      "http://msreg.com/CCSCCSchool\n",
      "http://msreg.com/CCSCCJune\n",
      "http://msreg.com/CCSCCJuly\n",
      "http://ccsportscarclub.org/files/2022/07/summer-of-speed-ii-saturday-07-16-2022_fin-1.htm\n",
      "http://ccsportscarclub.org/files/2022/07/summer-of-speed-ii-saturday-07-16-2022_raw-1.htm\n",
      "http://ccsportscarclub.org/files/2022/07/summer-of-speed-ii-saturday-07-16-2022_pax-1.htm\n",
      "http://ccsportscarclub.org/files/2022/08/Summer-of-Speed-II-Saturday-07-16-2022-Pro_fin.htm\n",
      "http://ccsportscarclub.org/files/2022/07/summer-of-speed-ii-sunday-07-17-2022_fin.htm\n",
      "http://ccsportscarclub.org/files/2022/07/summer-of-speed-ii-sunday-07-17-2022_pax.htm\n",
      "http://ccsportscarclub.org/files/2022/07/summer-of-speed-ii-sunday-07-17-2022_raw.htm\n",
      "http://ccsportscarclub.org/files/2022/08/Summer-of-Speed-II-Sunday-07-17-2022-Pro_fin.htm\n",
      "http://msreg.com/CCSCCAug\n",
      "http://ccsportscarclub.org/files/2022/08/autox-in-august-saturday-8-13-2022_fin.htm\n",
      "http://ccsportscarclub.org/files/2022/08/autox-in-august-saturday-8-13-2022_raw.htm\n",
      "http://ccsportscarclub.org/files/2022/08/autox-in-august-saturday-8-13-2022_pax.htm\n",
      "http://ccsportscarclub.org/files/2022/08/Autox-in-August-Saturday-8-13-2022-Pro_fin.htm\n",
      "http://ccsportscarclub.org/files/2022/08/autox-in-august-sunday-8-14-2022_fin.htm\n",
      "http://ccsportscarclub.org/files/2022/08/autox-in-august-sunday-8-14-2022_raw.htm\n",
      "http://ccsportscarclub.org/files/2022/08/autox-in-august-sunday-8-14-2022_pax.htm\n",
      "http://ccsportscarclub.org/files/2022/08/Autox-in-August-Sunday-8-14-2022-Pro_fin.htm\n",
      "http://msreg.com/CCSCCSept\n",
      "http://ccsportscarclub.org/files/2022/09/You-shall-not-pass-09-03-2022_fin.htm\n",
      "http://ccsportscarclub.org/files/2022/09/You-shall-not-pass-09-03-2022_raw.htm\n",
      "http://ccsportscarclub.org/files/2022/09/you-shall-not-pass-09-03-2022_pax.htm\n",
      "http://ccsportscarclub.org/files/2022/09/You-shall-not-pass-09-03-2022-Pro_fin.htm\n",
      "http://msreg.com/CCSCCOct\n",
      "http://ccsportscarclub.org/files/2022/10/closing-the-gap-10-8-2022_fin.htm\n",
      "http://ccsportscarclub.org/files/2022/10/closing-the-gap-10-8-2022_raw.htm\n",
      "http://ccsportscarclub.org/files/2022/10/closing-the-gap-10-8-2022_pax.htm\n",
      "http://ccsportscarclub.org/files/2022/10/closing-the-gap-10-9-2022_fin.htm\n",
      "http://ccsportscarclub.org/files/2022/10/closing-the-gap-10-9-2022_raw.htm\n",
      "http://ccsportscarclub.org/files/2022/10/closing-the-gap-10-9-2022_pax.htm\n",
      "http://msreg.com/CCSCCNov\n"
     ]
    }
   ],
   "source": [
    "for link in links_list:\n",
    "    print(link)"
   ]
  },
  {
   "cell_type": "code",
   "execution_count": 4,
   "metadata": {},
   "outputs": [],
   "source": [
    "my_file = open('output.txt','w')\n",
    "for url in links_list:\n",
    "    if url.find('_raw') != -1 and 1 > 2:\n",
    "        new_page = requests.get(url)\n",
    "        new_soup = BeautifulSoup(new_page.text, 'html.parser')\n",
    "        table_lists = new_soup.find_all('table')\n",
    "        #print(table_lists)\n",
    "        td_find = new_soup.find_all('td')\n",
    "        td_list = []\n",
    "        count = 1\n",
    "        for td in td_find:\n",
    "            td_list.append(td.text)\n",
    "            if count % 9 == 0:\n",
    "                td_list.append('\\n')\n",
    "            count+=1\n",
    "            \n",
    "        my_file.write('|'.join(td_list))\n",
    "        my_file.write('\\n')\n",
    "\n",
    "    if url.find('msreg') != -1:\n",
    "        new_page = requests.get(url)\n",
    "        new_soup = BeautifulSoup(new_page.text, 'html.parser')\n",
    "        location = new_soup.find('div',{'class':'section__description section__description_s'}).text\n",
    "        #print(f\"URL:{url}\")\n",
    "        #print(location)\n",
    "        my_file.write(location)\n",
    "    \n",
    "    #print(\"-------------------------------------------------------------------------------------------\")\n",
    "    \n",
    "\n",
    "    \n"
   ]
  },
  {
   "cell_type": "code",
   "execution_count": 24,
   "metadata": {},
   "outputs": [
    {
     "ename": "IndexError",
     "evalue": "list index out of range",
     "output_type": "error",
     "traceback": [
      "\u001b[1;31m---------------------------------------------------------------------------\u001b[0m",
      "\u001b[1;31mIndexError\u001b[0m                                Traceback (most recent call last)",
      "Cell \u001b[1;32mIn [24], line 8\u001b[0m\n\u001b[0;32m      6\u001b[0m td_find \u001b[39m=\u001b[39m mnew_soup\u001b[39m.\u001b[39mfind_all(\u001b[39m'\u001b[39m\u001b[39mtd\u001b[39m\u001b[39m'\u001b[39m)\n\u001b[0;32m      7\u001b[0m table_lists \u001b[39m=\u001b[39m mnew_soup\u001b[39m.\u001b[39mfind_all(\u001b[39m'\u001b[39m\u001b[39mtable\u001b[39m\u001b[39m'\u001b[39m)\n\u001b[1;32m----> 8\u001b[0m th_list \u001b[39m=\u001b[39m table_lists[\u001b[39m2\u001b[39;49m]\u001b[39m.\u001b[39mfind_all(\u001b[39m'\u001b[39m\u001b[39mtr\u001b[39m\u001b[39m'\u001b[39m)\n\u001b[0;32m      9\u001b[0m \u001b[39mfor\u001b[39;00m tr \u001b[39min\u001b[39;00m th_list:\n\u001b[0;32m     10\u001b[0m     td_list \u001b[39m=\u001b[39m tr\u001b[39m.\u001b[39mfind_all(\u001b[39m'\u001b[39m\u001b[39mtd\u001b[39m\u001b[39m'\u001b[39m)\n",
      "\u001b[1;31mIndexError\u001b[0m: list index out of range"
     ]
    }
   ],
   "source": [
    "from bs4 import BeautifulSoup\n",
    "import requests\n",
    "myurl = 'http://ccsportscarclub.org/files/2022/09/you-shall-not-pass-09-03-2022_fin.htm'\n",
    "mnew_page = requests.get(myurl)\n",
    "mnew_soup = BeautifulSoup(mnew_page.text, 'html.parser')\n",
    "td_find = mnew_soup.find_all('td')\n",
    "table_lists = mnew_soup.find_all('table')\n",
    "th_list = table_lists[2].find_all('tr')\n",
    "for tr in th_list:\n",
    "    td_list = tr.find_all('td')\n",
    "    print(len(td_list))\n",
    "    for td in td_list:\n",
    "        print(td.text)\n",
    "    print('----------')"
   ]
  },
  {
   "cell_type": "code",
   "execution_count": 5,
   "metadata": {},
   "outputs": [
    {
     "name": "stdout",
     "output_type": "stream",
     "text": [
      "101\n",
      "1\n",
      "2\n",
      "2\n"
     ]
    }
   ],
   "source": [
    "mystring =''\n",
    "for i in range(4):\n",
    "    if i == 3:\n",
    "        pass\n",
    "    else:\n",
    "        mystring = i\n",
    "    if i == 0:\n",
    "        mystring = i+101\n",
    "    print(mystring)"
   ]
  },
  {
   "cell_type": "code",
   "execution_count": 6,
   "metadata": {},
   "outputs": [
    {
     "name": "stdout",
     "output_type": "stream",
     "text": [
      "1\n",
      "2\n",
      "3\n",
      "4\n",
      "5\n",
      "6\n"
     ]
    }
   ],
   "source": [
    "mylist= ['1','2','3','4','5','6']\n",
    "for i in range(len(mylist)):\n",
    "    print(mylist[i])"
   ]
  },
  {
   "cell_type": "code",
   "execution_count": 7,
   "metadata": {},
   "outputs": [
    {
     "name": "stdout",
     "output_type": "stream",
     "text": [
      "['', '2', '1', 'SSP', '37', 'Tianyi Ma', '2016 Porsche 911 GT3RS', '46.964', '0.181', '0.181', '']\n"
     ]
    }
   ],
   "source": [
    "anstring = '|2|1|SSP|37|Tianyi Ma|2016 Porsche 911 GT3RS|46.964|0.181|0.181|'\n",
    "mnlist = anstring.split('|')\n",
    "print(mnlist)"
   ]
  },
  {
   "cell_type": "code",
   "execution_count": 8,
   "metadata": {},
   "outputs": [
    {
     "name": "stdout",
     "output_type": "stream",
     "text": [
      "a_b.c\n"
     ]
    }
   ],
   "source": [
    "def xis():\n",
    "    x =  'A_B.C'\n",
    "    return x \n",
    "b = xis().lower()\n",
    "print(b)"
   ]
  },
  {
   "cell_type": "code",
   "execution_count": 9,
   "metadata": {},
   "outputs": [
    {
     "name": "stdout",
     "output_type": "stream",
     "text": [
      "['lets-get-it-started-03_26_2022', '.htm']\n",
      "['lets', 'get', 'it', 'started', '03_26_2022_raw.htm']\n",
      "lets get it started \n",
      "0\n"
     ]
    }
   ],
   "source": [
    "x = 'lets-get-it-started-03_26_2022_raw.htm'\n",
    "alist =  re.split('_pax|_raw',x)\n",
    "print(alist)\n",
    "aba=alist[0]\n",
    "xlist = x.split('-')\n",
    "print(xlist)\n",
    "event_name = \"\"\n",
    "for word in xlist:\n",
    "    if True in [char.isdigit() for char in word]:\n",
    "        pass\n",
    "    else:\n",
    "        event_name += word+' '\n",
    "print(event_name)\n",
    "print(x.find(aba))\n"
   ]
  },
  {
   "cell_type": "code",
   "execution_count": 10,
   "metadata": {},
   "outputs": [
    {
     "name": "stdout",
     "output_type": "stream",
     "text": [
      "03-26-2022\n",
      "1\n"
     ]
    }
   ],
   "source": [
    "\n",
    "date= re.findall(r'\\d+', x)\n",
    "date = '-'.join(date)\n",
    "print(date)\n",
    "print(1)"
   ]
  },
  {
   "cell_type": "code",
   "execution_count": 11,
   "metadata": {},
   "outputs": [
    {
     "name": "stdout",
     "output_type": "stream",
     "text": [
      "[[1, 3, 4], [6, 6, 6], [7, 7, 7]]\n",
      "4\n"
     ]
    }
   ],
   "source": [
    "listss = []\n",
    "listss.append([1,3,4])\n",
    "listss.append([6,6,6])\n",
    "listss.append([7,7,7])\n",
    "print(listss)\n",
    "print(listss[0][2])"
   ]
  },
  {
   "cell_type": "code",
   "execution_count": 12,
   "metadata": {},
   "outputs": [
    {
     "name": "stdout",
     "output_type": "stream",
     "text": [
      "1\n"
     ]
    }
   ],
   "source": [
    "c = 'hello'\n",
    "print(c.find('el'))"
   ]
  },
  {
   "cell_type": "code",
   "execution_count": 13,
   "metadata": {},
   "outputs": [
    {
     "name": "stdout",
     "output_type": "stream",
     "text": [
      "Found Match\n",
      "['lets-get-it-started-03_26_2022_pax.txt']\n"
     ]
    }
   ],
   "source": [
    "x = 'lets-get-it-started-03_26_2022_raw.txt'\n",
    "alist =  re.split('_pax|_raw',x)\n",
    "aba=alist[0]\n",
    "dir_list = os.listdir(path='files/')\n",
    "filepath_list = []\n",
    "for path in dir_list:\n",
    "    if path == x:\n",
    "        print('Found Match')\n",
    "    elif path.find(aba)!= -1:\n",
    "        filepath_list.append(path)\n",
    "print(filepath_list)"
   ]
  },
  {
   "cell_type": "code",
   "execution_count": 14,
   "metadata": {},
   "outputs": [
    {
     "name": "stdout",
     "output_type": "stream",
     "text": [
      "0   List for autox-in-august-saturday-8-13-2022_pax.txt\n",
      "['autox-in-august-saturday-8-13-2022_raw.txt']\n",
      "2   List for autox-in-august-sunday-8-14-2022_pax.txt\n",
      "['autox-in-august-sunday-8-14-2022_raw.txt']\n",
      "4   List for cone-slayer-saturday-04-23-2022_pax.txt\n",
      "['cone-slayer-saturday-04-23-2022_raw.txt']\n",
      "6   List for cone-slayer-sunday-4-24-2022_pax.txt\n",
      "['cone-slayer-sunday-4-24-2022_raw.txt']\n",
      "8   List for counterbalance-saturday-05-14-2022_pax.txt\n",
      "['counterbalance-saturday-05-14-2022_raw.txt']\n",
      "10   List for counterbalance-sunday-05-15-2022_pax.txt\n",
      "['counterbalance-sunday-05-15-2022_raw.txt']\n",
      "12   List for lets-get-it-started-03_26_2022_pax.txt\n",
      "['lets-get-it-started-03_26_2022_raw.txt']\n",
      "14   List for lets-get-it-started-03_27_2022_pax.txt\n",
      "['lets-get-it-started-03_27_2022_raw.txt']\n",
      "16   List for summer-of-speed-ii-saturday-07-16-2022_pax-1.txt\n",
      "['summer-of-speed-ii-saturday-07-16-2022_raw-1.txt']\n",
      "18   List for summer-of-speed-ii-sunday-07-17-2022_pax.txt\n",
      "['summer-of-speed-ii-sunday-07-17-2022_raw.txt']\n",
      "20   List for you-shall-not-pass-09-03-2022_pax.txt\n",
      "['you-shall-not-pass-09-03-2022_raw.txt']\n"
     ]
    }
   ],
   "source": [
    "i = 0\n",
    "while i < len(dir_list):\n",
    "    curr_path = dir_list[i]\n",
    "    k = i +1\n",
    "    split_list = re.split('_pax|_raw',curr_path)\n",
    "    sub_path = split_list[0]\n",
    "    filePathList = []\n",
    "    bx = 0\n",
    "    while k < len(dir_list):        \n",
    "        if dir_list[k].find(sub_path) != -1:\n",
    "            filePathList.append(dir_list[k])\n",
    "            bx=k\n",
    "        k+=1\n",
    "    print(f\"{i}   List for {curr_path}\")\n",
    "    print(filePathList)\n",
    "    if bx == 0:\n",
    "        i+=1\n",
    "    else:\n",
    "        i=bx+1\n",
    "    \n",
    "\n"
   ]
  },
  {
   "cell_type": "code",
   "execution_count": 17,
   "metadata": {},
   "outputs": [
    {
     "ename": "FileNotFoundError",
     "evalue": "[Errno 2] No such file or directory: 'files/autox-in-august-saturday-8-13-2022_raw.txt'",
     "output_type": "error",
     "traceback": [
      "\u001b[1;31m---------------------------------------------------------------------------\u001b[0m",
      "\u001b[1;31mFileNotFoundError\u001b[0m                         Traceback (most recent call last)",
      "Cell \u001b[1;32mIn [17], line 4\u001b[0m\n\u001b[0;32m      1\u001b[0m \u001b[39mfrom\u001b[39;00m \u001b[39mfuzzywuzzy\u001b[39;00m \u001b[39mimport\u001b[39;00m fuzz\n\u001b[0;32m      3\u001b[0m path \u001b[39m=\u001b[39m \u001b[39m'\u001b[39m\u001b[39mautox-in-august-saturday-8-13-2022_raw.txt\u001b[39m\u001b[39m'\u001b[39m\n\u001b[1;32m----> 4\u001b[0m my_file \u001b[39m=\u001b[39m \u001b[39mopen\u001b[39;49m(\u001b[39m'\u001b[39;49m\u001b[39mfiles/\u001b[39;49m\u001b[39m'\u001b[39;49m\u001b[39m+\u001b[39;49mpath,\u001b[39m'\u001b[39;49m\u001b[39mr\u001b[39;49m\u001b[39m'\u001b[39;49m)\n\u001b[0;32m      5\u001b[0m lines \u001b[39m=\u001b[39m my_file\u001b[39m.\u001b[39mreadlines()\n\u001b[0;32m      6\u001b[0m raw_data_list \u001b[39m=\u001b[39m  []\n",
      "\u001b[1;31mFileNotFoundError\u001b[0m: [Errno 2] No such file or directory: 'files/autox-in-august-saturday-8-13-2022_raw.txt'"
     ]
    }
   ],
   "source": [
    "from fuzzywuzzy import fuzz\n",
    "\n",
    "path = 'autox-in-august-saturday-8-13-2022_raw.txt'\n",
    "my_file = open('files/'+path,'r')\n",
    "lines = my_file.readlines()\n",
    "raw_data_list =  []\n",
    "#print(len(lines))\n",
    "for line in lines:\n",
    "    newLine = re.split(r\"[\\n|]\", line)\n",
    "    raw_data_list.append(newLine)\n",
    "#print(raw_data_list)\n",
    "my_file.close()\n",
    "\n",
    "pax_data_list = []\n",
    "path = 'autox-in-august-saturday-8-13-2022_pax.txt'\n",
    "my_file = open('files/'+path,'r')\n",
    "for line in lines:\n",
    "    newLine = re.split(r\"[\\n|]\", line)\n",
    "    pax_data_list.append(newLine)\n",
    "name = 'Jarred Murrphy'.lower()#raw_data_list[3][4]\n",
    "for index in range(3,len(pax_data_list)):\n",
    "    pax_name = pax_data_list[index][4].lower()\n",
    "    ratio = fuzz.ratio(name,pax_name)\n",
    "    #print(f\"Ratio: {ratio}  Between {name} and {pax_name}\")\n",
    "\n",
    "my_file.close()\n",
    "    "
   ]
  },
  {
   "cell_type": "code",
   "execution_count": 16,
   "metadata": {},
   "outputs": [
    {
     "name": "stdout",
     "output_type": "stream",
     "text": [
      "3\n",
      "4\n",
      "5\n",
      "6\n",
      "7\n",
      "8\n",
      "9\n",
      "3\n",
      "4\n",
      "5\n",
      "6\n",
      "7\n",
      "8\n",
      "9\n"
     ]
    }
   ],
   "source": [
    "counterr = 1\n",
    "i = 3\n",
    "while i < 10:\n",
    "    print(i)\n",
    "    if i == 9 and counterr ==1:\n",
    "        i = 2\n",
    "        counterr=2\n",
    "    i+=1\n",
    "    "
   ]
  },
  {
   "cell_type": "code",
   "execution_count": 1,
   "metadata": {},
   "outputs": [
    {
     "name": "stdout",
     "output_type": "stream",
     "text": [
      "2022 8  13\n"
     ]
    }
   ],
   "source": [
    "my_date = '8-13-2022'\n",
    "datelist = my_date.split('-')\n",
    "month = int(datelist[0])\n",
    "day =  int(datelist[1])\n",
    "year = int(datelist[2])\n",
    "\n",
    "print (f'{year} {month}  {day}')"
   ]
  },
  {
   "cell_type": "code",
   "execution_count": 7,
   "metadata": {},
   "outputs": [
    {
     "name": "stdout",
     "output_type": "stream",
     "text": [
      "1|2|3|99|77|\n",
      "['1', '2', '3', '99', '77', '']\n",
      "\n",
      "['1', '2', '3', '99', '77']\n"
     ]
    }
   ],
   "source": [
    "mystring = '1|2|3|'\n",
    "mystring+='99|'\n",
    "mystring+=str(77)+'|'\n",
    "print(mystring)\n",
    "stringlist = mystring.split('|')\n",
    "print(stringlist)\n",
    "print(stringlist.pop())\n",
    "print(stringlist)"
   ]
  },
  {
   "cell_type": "code",
   "execution_count": 1,
   "metadata": {},
   "outputs": [],
   "source": [
    "#mylist = p.suggestion_list.split('|')\n",
    "\n",
    "#mylist.pop()\n",
    " \n",
    " #for brun_id in mylist:\n",
    "  #  ...:     run = Best_run_data.objects.get(b_run_id=int(brun_id))\n",
    "   # ...:     print(f\"{run.run_id.driver_name}  {run.run_id.time} {run.raw_class_position} {run.run_id.event_id.date}\")\n",
    "   "
   ]
  },
  {
   "cell_type": "code",
   "execution_count": 3,
   "metadata": {},
   "outputs": [
    {
     "name": "stdout",
     "output_type": "stream",
     "text": [
      "a\n",
      "1\n",
      "b\n",
      "2\n"
     ]
    }
   ],
   "source": [
    "values = [\"a\", \"b\", \"c\"]\n",
    "for count, value in enumerate(values):\n",
    "    if count > 0:\n",
    "        print(values[count-1])\n",
    "        print(count)"
   ]
  },
  {
   "cell_type": "code",
   "execution_count": 6,
   "metadata": {},
   "outputs": [
    {
     "name": "stdout",
     "output_type": "stream",
     "text": [
      "a\n",
      "11\n",
      "b\n",
      "12\n"
     ]
    }
   ],
   "source": [
    "for i in range(len(values)):\n",
    "    if i > 0:\n",
    "        print(values[i-1])\n",
    "        print(i+10)        "
   ]
  },
  {
   "cell_type": "code",
   "execution_count": 18,
   "metadata": {},
   "outputs": [
    {
     "name": "stdout",
     "output_type": "stream",
     "text": [
      "100\n"
     ]
    }
   ],
   "source": [
    "from fuzzywuzzy import fuzz\n",
    "name1 = 'kyle sartoris'\n",
    "name2 = 'kyle sartoris'\n",
    "ratio = fuzz.ratio(name1,name2)\n",
    "print(ratio)"
   ]
  },
  {
   "cell_type": "code",
   "execution_count": 24,
   "metadata": {},
   "outputs": [
    {
     "name": "stdout",
     "output_type": "stream",
     "text": [
      "14.356\n"
     ]
    }
   ],
   "source": [
    "sum = '43.068'\n",
    "avg = float(sum) / 3\n",
    "print(avg)"
   ]
  },
  {
   "cell_type": "code",
   "execution_count": 25,
   "metadata": {},
   "outputs": [
    {
     "name": "stdout",
     "output_type": "stream",
     "text": [
      "[6, 7, 8]\n",
      "6\n",
      "7\n",
      "8\n",
      "9\n",
      "10\n",
      "11\n",
      "12\n",
      "13\n",
      "14\n",
      "15\n"
     ]
    }
   ],
   "source": [
    "myarr=[['a',1,2,3,4,5,6,7,8,9,10,11,12,13,14,15,16,17],['b',1,2,3,4,5,6,7,8,9,10],['c',1,2,3,4,5,6,7,8,9,10],['d',1,2,3,4,5,6,7,8,9,10]]\n",
    "print(myarr[0][6:9])\n",
    "for it in myarr[0][6:-2]:\n",
    "    print(it)"
   ]
  },
  {
   "cell_type": "code",
   "execution_count": 12,
   "metadata": {},
   "outputs": [
    {
     "name": "stdout",
     "output_type": "stream",
     "text": [
      "['42.025', '1']\n",
      "2\n",
      "\n",
      "42.0253\n",
      "DNF\n",
      "Match\n"
     ]
    }
   ],
   "source": [
    "mynum = '42.025+1'\n",
    "mynum2 = '42.011+DNF'\n",
    "mynum3 = '42.0253'\n",
    "print(mynum.split('+'))\n",
    "print(len(mynum.split('+')))\n",
    "print()\n",
    "print(float(mynum3))\n",
    "splittime = mynum2.split('+')\n",
    "print(splittime[1])\n",
    "if splittime[1] == \"DNF\":\n",
    "    print('Match')\n",
    "else:\n",
    "    print('No Match')\n"
   ]
  },
  {
   "cell_type": "code",
   "execution_count": 20,
   "metadata": {},
   "outputs": [
    {
     "name": "stdout",
     "output_type": "stream",
     "text": [
      "15\n",
      "66.042\n",
      "1\n"
     ]
    }
   ],
   "source": [
    "def is_float(n):\n",
    "    try:\n",
    "        float(n)\n",
    "        return True\n",
    "    except ValueError:\n",
    "        return False\n",
    "finarr = ['78.341+1', '60.733+7', '59.052+2', '59.456+1', '58.705+2', '60.963+1', '58.965+1', '68.170','','']\n",
    "raw_time = '60.965'\n",
    "\n",
    "cones_hit = 0\n",
    "\n",
    "total_time = 0\n",
    "cones_hit_event = 0\n",
    "\n",
    "run_count = 1\n",
    "dnf = False\n",
    "three_run_sum = 0\n",
    "three_run_avg = \"N/A\"\n",
    "#need to calculate...\n",
    "#total cones hit for the event\n",
    "#cones hit for the best run\n",
    "#first 3 run avg\n",
    "for time in finarr:\n",
    "    timesplit = time.split('+')\n",
    "    #if arr > 1,  checks for how many cones are hit or DNF, \n",
    "    # adds cone penalty time to total time, 2 secs. \n",
    "    if len(timesplit) > 1:\n",
    "        if timesplit[1].isdigit():\n",
    "            cones_hit_event += int(timesplit[1])\n",
    "            if is_float(timesplit[0]):\n",
    "                total_time = float(timesplit[0]) + (float(timesplit[1])*2)\n",
    "        else:\n",
    "            if is_float(timesplit[0]):\n",
    "                total_time = float(timesplit[0])\n",
    "    else:\n",
    "        if is_float(timesplit[0]):\n",
    "            total_time = float(timesplit[0])\n",
    "    ##matching the raw time to get the cones hit for that run only\n",
    "    if total_time == float(raw_time):\n",
    "        if len(timesplit) > 1:\n",
    "            if timesplit[1].isdigit():\n",
    "                cones_hit = int(timesplit[1])\n",
    "    #get the first 3 run average\n",
    "    #if a run contians DNF, avg = DNF\n",
    "    if run_count <=3:\n",
    "        if len(timesplit) > 1:\n",
    "            if timesplit[1] == 'DNF':\n",
    "                dnf = True\n",
    "        if is_float(timesplit[0]):\n",
    "            three_run_sum+= float(timesplit[0])\n",
    "        else:\n",
    "            dnf = True\n",
    "        run_count+=1\n",
    "if dnf == True:\n",
    "    three_run_avg = 'DNF'\n",
    "else:\n",
    "    if run_count == 4:\n",
    "        three_run_avg = str(round(three_run_sum/3,3))\n",
    "print(cones_hit_event)\n",
    "print(three_run_avg)\n",
    "print(cones_hit)\n",
    "    \n",
    "\n"
   ]
  },
  {
   "cell_type": "code",
   "execution_count": 3,
   "metadata": {},
   "outputs": [
    {
     "name": "stdout",
     "output_type": "stream",
     "text": [
      "['1', '2', 'D']\n"
     ]
    }
   ],
   "source": [
    "arrr = ['1','2','D']\n",
    "print(sorted(arrr))"
   ]
  },
  {
   "cell_type": "code",
   "execution_count": 7,
   "metadata": {},
   "outputs": [
    {
     "name": "stdout",
     "output_type": "stream",
     "text": [
      "1\n",
      "2\n",
      "3\n"
     ]
    }
   ],
   "source": [
    "bcount = 1\n",
    "while bcount <=3:\n",
    "    print(bcount)\n",
    "    bcount+=1"
   ]
  },
  {
   "cell_type": "code",
   "execution_count": 2,
   "metadata": {},
   "outputs": [
    {
     "name": "stdout",
     "output_type": "stream",
     "text": [
      "0\n",
      "1\n",
      "2\n",
      "3\n",
      "4\n",
      "5\n",
      "6\n",
      "7\n",
      "8\n",
      "9\n"
     ]
    }
   ],
   "source": [
    "import time\n",
    "for i in range(10):\n",
    "    print(i)\n",
    "    time.sleep(2)"
   ]
  },
  {
   "cell_type": "code",
   "execution_count": null,
   "metadata": {},
   "outputs": [],
   "source": []
  }
 ],
 "metadata": {
  "kernelspec": {
   "display_name": "Python 3.10.7 64-bit",
   "language": "python",
   "name": "python3"
  },
  "language_info": {
   "codemirror_mode": {
    "name": "ipython",
    "version": 3
   },
   "file_extension": ".py",
   "mimetype": "text/x-python",
   "name": "python",
   "nbconvert_exporter": "python",
   "pygments_lexer": "ipython3",
   "version": "3.10.7"
  },
  "orig_nbformat": 4,
  "vscode": {
   "interpreter": {
    "hash": "a4c2bab49a5abea89768508b474f02b5ca104266763b6db9c4dec2913ec82728"
   }
  }
 },
 "nbformat": 4,
 "nbformat_minor": 2
}
